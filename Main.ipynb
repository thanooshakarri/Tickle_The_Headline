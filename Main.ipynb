{
 "cells": [
  {
   "cell_type": "code",
   "execution_count": 1,
   "metadata": {},
   "outputs": [
    {
     "name": "stderr",
     "output_type": "stream",
     "text": [
      "c:\\Users\\ual-laptop\\AppData\\Local\\Programs\\Python\\Python311\\Lib\\site-packages\\tqdm\\auto.py:21: TqdmWarning: IProgress not found. Please update jupyter and ipywidgets. See https://ipywidgets.readthedocs.io/en/stable/user_install.html\n",
      "  from .autonotebook import tqdm as notebook_tqdm\n"
     ]
    }
   ],
   "source": [
    "from scripts.HumorousClassifier import Humorous_Classifier"
   ]
  },
  {
   "cell_type": "code",
   "execution_count": 2,
   "metadata": {},
   "outputs": [
    {
     "name": "stderr",
     "output_type": "stream",
     "text": [
      "Downloading data files: 100%|██████████| 2/2 [00:00<00:00, 578.88it/s]\n",
      "Extracting data files: 100%|██████████| 2/2 [00:00<00:00, 62.16it/s]\n",
      "Generating train split: 6756 examples [00:00, 135985.78 examples/s]\n",
      "Generating validation split: 1448 examples [00:00, 70851.05 examples/s]\n",
      "Map: 100%|██████████| 6756/6756 [00:00<00:00, 9531.87 examples/s] \n",
      "Map: 100%|██████████| 1448/1448 [00:00<00:00, 7852.67 examples/s]\n"
     ]
    },
    {
     "name": "stdout",
     "output_type": "stream",
     "text": [
      "Epoch 1/10\n",
      "422/423 [============================>.] - ETA: 0s - loss: 0.3707 - mean_squared_error: 0.3707WARNING:tensorflow:Can save best model only with val_root_mean_squared_error available, skipping.\n",
      "423/423 [==============================] - 22s 39ms/step - loss: 0.3707 - mean_squared_error: 0.3707 - val_loss: 0.3307 - val_mean_squared_error: 0.3307\n",
      "Epoch 2/10\n",
      "422/423 [============================>.] - ETA: 0s - loss: 0.2943 - mean_squared_error: 0.2943WARNING:tensorflow:Can save best model only with val_root_mean_squared_error available, skipping.\n",
      "423/423 [==============================] - 18s 43ms/step - loss: 0.2942 - mean_squared_error: 0.2942 - val_loss: 0.3339 - val_mean_squared_error: 0.3339\n",
      "Epoch 3/10\n",
      "422/423 [============================>.] - ETA: 0s - loss: 0.2450 - mean_squared_error: 0.2450WARNING:tensorflow:Can save best model only with val_root_mean_squared_error available, skipping.\n",
      "423/423 [==============================] - 17s 40ms/step - loss: 0.2451 - mean_squared_error: 0.2451 - val_loss: 0.3680 - val_mean_squared_error: 0.3680\n",
      "Epoch 4/10\n",
      "423/423 [==============================] - ETA: 0s - loss: 0.2175 - mean_squared_error: 0.2175WARNING:tensorflow:Can save best model only with val_root_mean_squared_error available, skipping.\n",
      "423/423 [==============================] - 17s 40ms/step - loss: 0.2175 - mean_squared_error: 0.2175 - val_loss: 0.3786 - val_mean_squared_error: 0.3786\n",
      "Epoch 5/10\n",
      "423/423 [==============================] - ETA: 0s - loss: 0.1911 - mean_squared_error: 0.1911WARNING:tensorflow:Can save best model only with val_root_mean_squared_error available, skipping.\n",
      "423/423 [==============================] - 17s 41ms/step - loss: 0.1911 - mean_squared_error: 0.1911 - val_loss: 0.3815 - val_mean_squared_error: 0.3815\n",
      "Epoch 6/10\n",
      "423/423 [==============================] - ETA: 0s - loss: 0.1699 - mean_squared_error: 0.1699WARNING:tensorflow:Can save best model only with val_root_mean_squared_error available, skipping.\n",
      "423/423 [==============================] - 17s 41ms/step - loss: 0.1699 - mean_squared_error: 0.1699 - val_loss: 0.3965 - val_mean_squared_error: 0.3965\n",
      "Epoch 7/10\n",
      "422/423 [============================>.] - ETA: 0s - loss: 0.1502 - mean_squared_error: 0.1502WARNING:tensorflow:Can save best model only with val_root_mean_squared_error available, skipping.\n",
      "423/423 [==============================] - 17s 40ms/step - loss: 0.1502 - mean_squared_error: 0.1502 - val_loss: 0.4140 - val_mean_squared_error: 0.4140\n",
      "Epoch 8/10\n",
      "423/423 [==============================] - ETA: 0s - loss: 0.1331 - mean_squared_error: 0.1331WARNING:tensorflow:Can save best model only with val_root_mean_squared_error available, skipping.\n",
      "423/423 [==============================] - 18s 42ms/step - loss: 0.1331 - mean_squared_error: 0.1331 - val_loss: 0.3918 - val_mean_squared_error: 0.3918\n",
      "Epoch 9/10\n",
      "423/423 [==============================] - ETA: 0s - loss: 0.1176 - mean_squared_error: 0.1176WARNING:tensorflow:Can save best model only with val_root_mean_squared_error available, skipping.\n",
      "423/423 [==============================] - 17s 40ms/step - loss: 0.1176 - mean_squared_error: 0.1176 - val_loss: 0.3946 - val_mean_squared_error: 0.3946\n",
      "Epoch 10/10\n",
      "422/423 [============================>.] - ETA: 0s - loss: 0.1052 - mean_squared_error: 0.1052WARNING:tensorflow:Can save best model only with val_root_mean_squared_error available, skipping.\n",
      "423/423 [==============================] - 17s 40ms/step - loss: 0.1053 - mean_squared_error: 0.1053 - val_loss: 0.4284 - val_mean_squared_error: 0.4284\n"
     ]
    },
    {
     "name": "stderr",
     "output_type": "stream",
     "text": [
      "Map: 100%|██████████| 1448/1448 [00:00<00:00, 9704.65 examples/s]\n"
     ]
    },
    {
     "name": "stdout",
     "output_type": "stream",
     "text": [
      "91/91 [==============================] - 1s 7ms/step\n",
      "0.5645414323608644\n",
      "None\n"
     ]
    }
   ],
   "source": [
    "classifier=Humorous_Classifier()\n",
    "#combining the original headlines with the humorous headlines to get one text vector\n",
    "classifier.pre_processing(data_path=\"data/humorous_headlines.csv\")\n",
    "#splits data into train, test, development in 70:15:15 ratio\n",
    "classifier.train_test_split(preprocessed_data_path=\"data/pre_processed_data.csv\")\n",
    "#fitting model with the spiltted data\n",
    "classifier.fit(train_path=\"data/train.csv\", devlopment_path=\"data/dev.csv\")\n",
    "#takes the data makes predicions and saves them into a data/predictions.csv file\n",
    "classifier.predict(path=\"data/test.csv\")\n",
    "print(classifier.root_mean_square_error())\n"
   ]
  }
 ],
 "metadata": {
  "kernelspec": {
   "display_name": "Python 3",
   "language": "python",
   "name": "python3"
  },
  "language_info": {
   "codemirror_mode": {
    "name": "ipython",
    "version": 3
   },
   "file_extension": ".py",
   "mimetype": "text/x-python",
   "name": "python",
   "nbconvert_exporter": "python",
   "pygments_lexer": "ipython3",
   "version": "3.11.5"
  }
 },
 "nbformat": 4,
 "nbformat_minor": 2
}
