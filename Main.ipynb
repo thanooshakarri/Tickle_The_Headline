{
 "cells": [
  {
   "cell_type": "code",
   "execution_count": 1,
   "metadata": {},
   "outputs": [
    {
     "name": "stderr",
     "output_type": "stream",
     "text": [
      "c:\\Users\\ual-laptop\\AppData\\Local\\Programs\\Python\\Python311\\Lib\\site-packages\\tqdm\\auto.py:21: TqdmWarning: IProgress not found. Please update jupyter and ipywidgets. See https://ipywidgets.readthedocs.io/en/stable/user_install.html\n",
      "  from .autonotebook import tqdm as notebook_tqdm\n"
     ]
    }
   ],
   "source": [
    "from scripts.HumorousClassifier import Humorous_Classifier"
   ]
  },
  {
   "cell_type": "code",
   "execution_count": 2,
   "metadata": {},
   "outputs": [
    {
     "name": "stderr",
     "output_type": "stream",
     "text": [
      "Downloading data files: 100%|██████████| 2/2 [00:00<00:00, 1953.11it/s]\n",
      "Extracting data files: 100%|██████████| 2/2 [00:00<00:00, 208.90it/s]\n",
      "Generating train split: 6756 examples [00:00, 101638.88 examples/s]\n",
      "Generating validation split: 1448 examples [00:00, 120245.35 examples/s]\n",
      "Map: 100%|██████████| 6756/6756 [00:00<00:00, 10758.23 examples/s]\n",
      "Map: 100%|██████████| 1448/1448 [00:00<00:00, 7980.57 examples/s]\n"
     ]
    },
    {
     "name": "stdout",
     "output_type": "stream",
     "text": [
      "Epoch 1/10\n",
      "423/423 [==============================] - ETA: 0s - loss: 0.3741 - mean_squared_error: 0.3741WARNING:tensorflow:Can save best model only with val_root_mean_squared_error available, skipping.\n",
      "423/423 [==============================] - 20s 38ms/step - loss: 0.3741 - mean_squared_error: 0.3741 - val_loss: 0.3275 - val_mean_squared_error: 0.3275\n",
      "Epoch 2/10\n",
      "423/423 [==============================] - ETA: 0s - loss: 0.2988 - mean_squared_error: 0.2988WARNING:tensorflow:Can save best model only with val_root_mean_squared_error available, skipping.\n",
      "423/423 [==============================] - 21s 49ms/step - loss: 0.2988 - mean_squared_error: 0.2988 - val_loss: 0.3369 - val_mean_squared_error: 0.3369\n",
      "Epoch 3/10\n",
      "423/423 [==============================] - ETA: 0s - loss: 0.2459 - mean_squared_error: 0.2459WARNING:tensorflow:Can save best model only with val_root_mean_squared_error available, skipping.\n",
      "423/423 [==============================] - 20s 47ms/step - loss: 0.2459 - mean_squared_error: 0.2459 - val_loss: 0.3416 - val_mean_squared_error: 0.3416\n",
      "Epoch 4/10\n",
      "421/423 [============================>.] - ETA: 0s - loss: 0.2035 - mean_squared_error: 0.2035WARNING:tensorflow:Can save best model only with val_root_mean_squared_error available, skipping.\n",
      "423/423 [==============================] - 20s 48ms/step - loss: 0.2043 - mean_squared_error: 0.2043 - val_loss: 0.3591 - val_mean_squared_error: 0.3591\n",
      "Epoch 5/10\n",
      "422/423 [============================>.] - ETA: 0s - loss: 0.1651 - mean_squared_error: 0.1651WARNING:tensorflow:Can save best model only with val_root_mean_squared_error available, skipping.\n",
      "423/423 [==============================] - 20s 46ms/step - loss: 0.1651 - mean_squared_error: 0.1651 - val_loss: 0.3924 - val_mean_squared_error: 0.3924\n",
      "Epoch 6/10\n",
      "423/423 [==============================] - ETA: 0s - loss: 0.1331 - mean_squared_error: 0.1331WARNING:tensorflow:Can save best model only with val_root_mean_squared_error available, skipping.\n",
      "423/423 [==============================] - 21s 49ms/step - loss: 0.1331 - mean_squared_error: 0.1331 - val_loss: 0.3892 - val_mean_squared_error: 0.3892\n",
      "Epoch 7/10\n",
      "423/423 [==============================] - ETA: 0s - loss: 0.1108 - mean_squared_error: 0.1108WARNING:tensorflow:Can save best model only with val_root_mean_squared_error available, skipping.\n",
      "423/423 [==============================] - 20s 48ms/step - loss: 0.1108 - mean_squared_error: 0.1108 - val_loss: 0.4154 - val_mean_squared_error: 0.4154\n",
      "Epoch 8/10\n",
      "423/423 [==============================] - ETA: 0s - loss: 0.0930 - mean_squared_error: 0.0930WARNING:tensorflow:Can save best model only with val_root_mean_squared_error available, skipping.\n",
      "423/423 [==============================] - 20s 46ms/step - loss: 0.0930 - mean_squared_error: 0.0930 - val_loss: 0.4375 - val_mean_squared_error: 0.4375\n",
      "Epoch 9/10\n",
      "422/423 [============================>.] - ETA: 0s - loss: 0.0789 - mean_squared_error: 0.0789WARNING:tensorflow:Can save best model only with val_root_mean_squared_error available, skipping.\n",
      "423/423 [==============================] - 19s 45ms/step - loss: 0.0789 - mean_squared_error: 0.0789 - val_loss: 0.4317 - val_mean_squared_error: 0.4317\n",
      "Epoch 10/10\n",
      "422/423 [============================>.] - ETA: 0s - loss: 0.0697 - mean_squared_error: 0.0697WARNING:tensorflow:Can save best model only with val_root_mean_squared_error available, skipping.\n",
      "423/423 [==============================] - 20s 48ms/step - loss: 0.0697 - mean_squared_error: 0.0697 - val_loss: 0.4388 - val_mean_squared_error: 0.4388\n"
     ]
    },
    {
     "name": "stderr",
     "output_type": "stream",
     "text": [
      "Map: 100%|██████████| 1448/1448 [00:00<00:00, 7546.34 examples/s]\n"
     ]
    },
    {
     "name": "stdout",
     "output_type": "stream",
     "text": [
      "91/91 [==============================] - 2s 8ms/step\n",
      "0.5645414323608644\n",
      "None\n"
     ]
    }
   ],
   "source": [
    "classifier=Humorous_Classifier()\n",
    "#combining the original headlines with the humorous headlines to get one text vector\n",
    "classifier.pre_processing(data_path=\"data/humorous_headlines.csv\")\n",
    "#splits data into train, test, development in 70:15:15 ratio\n",
    "classifier.train_test_split(preprocessed_data_path=\"data/pre_processed_data.csv\")\n",
    "#fitting model with the spiltted data\n",
    "classifier.fit(train_path=\"data/train.csv\", devlopment_path=\"data/dev.csv\")\n",
    "#takes the data makes predicions and saves them into a data/predictions.csv file\n",
    "classifier.predict(path=\"data/test.csv\")\n",
    "print(classifier.root_mean_square_error())\n"
   ]
  }
 ],
 "metadata": {
  "kernelspec": {
   "display_name": "Python 3",
   "language": "python",
   "name": "python3"
  },
  "language_info": {
   "codemirror_mode": {
    "name": "ipython",
    "version": 3
   },
   "file_extension": ".py",
   "mimetype": "text/x-python",
   "name": "python",
   "nbconvert_exporter": "python",
   "pygments_lexer": "ipython3",
   "version": "3.11.5"
  }
 },
 "nbformat": 4,
 "nbformat_minor": 2
}
